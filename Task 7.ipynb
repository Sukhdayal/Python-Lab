{
 "cells": [
  {
   "cell_type": "markdown",
   "id": "9c16e59e",
   "metadata": {},
   "source": [
    "# Task 7: Write a program to demonstrate working with dictionaries in python."
   ]
  },
  {
   "cell_type": "code",
   "execution_count": 1,
   "id": "3b8e5fa3",
   "metadata": {},
   "outputs": [],
   "source": [
    "# Creating a dictionary\n",
    "student_info = {\n",
    "    \"name\": \"John\",\n",
    "    \"age\": 14,\n",
    "    \"class\": \"8th Grade\",\n",
    "    \"favorite_subject\": \"Math\"\n",
    "}"
   ]
  },
  {
   "cell_type": "markdown",
   "id": "da2ca553",
   "metadata": {},
   "source": [
    "**Creating a Dictionary:**\n",
    "   - A dictionary in Python is like a real-life dictionary where you have words (keys) and their meanings (values).\n",
    "   - We create a dictionary named `student_info` with keys like `\"name\"`, `\"age\"`, `\"class\"`, and `\"favorite_subject\"`, and assign values to them."
   ]
  },
  {
   "cell_type": "code",
   "execution_count": 2,
   "id": "05d1598e",
   "metadata": {},
   "outputs": [
    {
     "name": "stdout",
     "output_type": "stream",
     "text": [
      "Student Information: {'name': 'John', 'age': 14, 'class': '8th Grade', 'favorite_subject': 'Math'}\n"
     ]
    }
   ],
   "source": [
    "# Printing the entire dictionary\n",
    "print(\"Student Information:\", student_info)"
   ]
  },
  {
   "cell_type": "markdown",
   "id": "80f6e57d",
   "metadata": {},
   "source": [
    "**Printing the Entire Dictionary:**\n",
    "   - We use the `print()` function to display the entire `student_info` dictionary. This will show all the key-value pairs stored in the dictionary."
   ]
  },
  {
   "cell_type": "code",
   "execution_count": 3,
   "id": "deafe992",
   "metadata": {},
   "outputs": [
    {
     "name": "stdout",
     "output_type": "stream",
     "text": [
      "Student's Name: John\n"
     ]
    }
   ],
   "source": [
    "# Accessing and printing a specific value using its key\n",
    "print(\"Student's Name:\", student_info[\"name\"])"
   ]
  },
  {
   "cell_type": "markdown",
   "id": "9c074825",
   "metadata": {},
   "source": [
    "**Accessing a Specific Value:**\n",
    "   - To get a specific value from the dictionary, we use its key. For example, `student_info[\"name\"]` gives us the value associated with the key `\"name\"`, which is `\"John\"`.\n",
    "   - We print the student's name using the `print()` function."
   ]
  },
  {
   "cell_type": "code",
   "execution_count": 4,
   "id": "a849ec3d",
   "metadata": {},
   "outputs": [],
   "source": [
    "# Adding a new key-value pair to the dictionary\n",
    "student_info[\"hobby\"] = \"Painting\""
   ]
  },
  {
   "cell_type": "markdown",
   "id": "ed48ed63",
   "metadata": {},
   "source": [
    "**Adding a New Key-Value Pair:**\n",
    "   - We can add new information to the dictionary by assigning a value to a new key. For example, `student_info[\"hobby\"] = \"Painting\"` adds the key `\"hobby\"` with the value `\"Painting\"` to the dictionary."
   ]
  },
  {
   "cell_type": "code",
   "execution_count": 5,
   "id": "db6b63dd",
   "metadata": {},
   "outputs": [
    {
     "name": "stdout",
     "output_type": "stream",
     "text": [
      "Updated Student Information: {'name': 'John', 'age': 14, 'class': '8th Grade', 'favorite_subject': 'Math', 'hobby': 'Painting'}\n"
     ]
    }
   ],
   "source": [
    "# Printing the updated dictionary\n",
    "print(\"Updated Student Information:\", student_info)"
   ]
  },
  {
   "cell_type": "markdown",
   "id": "9422df9a",
   "metadata": {},
   "source": [
    "**Printing the Updated Dictionary:**\n",
    "   - After adding the new key-value pair, we print the `student_info` dictionary again to see the updated information."
   ]
  },
  {
   "cell_type": "code",
   "execution_count": 6,
   "id": "73afb946",
   "metadata": {},
   "outputs": [],
   "source": [
    "# Updating an existing value\n",
    "student_info[\"age\"] = 15"
   ]
  },
  {
   "cell_type": "markdown",
   "id": "99852a4e",
   "metadata": {},
   "source": [
    "**Updating an Existing Value:**\n",
    "   - If we want to change the value of an existing key, we simply assign a new value to that key. Here, we update the `\"age\"` from `14` to `15` using `student_info[\"age\"] = 15`."
   ]
  },
  {
   "cell_type": "code",
   "execution_count": 7,
   "id": "748610f0",
   "metadata": {},
   "outputs": [
    {
     "name": "stdout",
     "output_type": "stream",
     "text": [
      "Student Information after updating age: {'name': 'John', 'age': 15, 'class': '8th Grade', 'favorite_subject': 'Math', 'hobby': 'Painting'}\n"
     ]
    }
   ],
   "source": [
    "# Printing the dictionary after updating\n",
    "print(\"Student Information after updating age:\", student_info)"
   ]
  },
  {
   "cell_type": "markdown",
   "id": "72096f96",
   "metadata": {},
   "source": [
    "**Printing the Dictionary After Updating:**\n",
    "   - After updating the age, we print the dictionary to see the changes."
   ]
  },
  {
   "cell_type": "code",
   "execution_count": 8,
   "id": "0b9b5f86",
   "metadata": {},
   "outputs": [],
   "source": [
    "# Deleting a key-value pair from the dictionary\n",
    "del student_info[\"favorite_subject\"]"
   ]
  },
  {
   "cell_type": "markdown",
   "id": "4484833a",
   "metadata": {},
   "source": [
    "**Deleting a Key-Value Pair:**\n",
    "   - To remove a key-value pair from the dictionary, we use the `del` statement. For example, `del student_info[\"favorite_subject\"]` deletes the key `\"favorite_subject\"` and its value from the dictionary."
   ]
  },
  {
   "cell_type": "code",
   "execution_count": 9,
   "id": "3553d46e",
   "metadata": {},
   "outputs": [
    {
     "name": "stdout",
     "output_type": "stream",
     "text": [
      "Student Information after deleting favorite_subject: {'name': 'John', 'age': 15, 'class': '8th Grade', 'hobby': 'Painting'}\n"
     ]
    }
   ],
   "source": [
    "# Printing the dictionary after deletion\n",
    "print(\"Student Information after deleting favorite_subject:\", student_info)"
   ]
  },
  {
   "cell_type": "markdown",
   "id": "28ae20c4",
   "metadata": {},
   "source": [
    "**Printing the Dictionary After Deletion:**\n",
    "   - After deleting the key-value pair, we print the dictionary one final time to see the updated content."
   ]
  },
  {
   "cell_type": "code",
   "execution_count": null,
   "id": "d76e06bd",
   "metadata": {},
   "outputs": [],
   "source": []
  }
 ],
 "metadata": {
  "kernelspec": {
   "display_name": "Python 3 (ipykernel)",
   "language": "python",
   "name": "python3"
  },
  "language_info": {
   "codemirror_mode": {
    "name": "ipython",
    "version": 3
   },
   "file_extension": ".py",
   "mimetype": "text/x-python",
   "name": "python",
   "nbconvert_exporter": "python",
   "pygments_lexer": "ipython3",
   "version": "3.11.3"
  }
 },
 "nbformat": 4,
 "nbformat_minor": 5
}
