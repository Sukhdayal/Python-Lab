{
 "cells": [
  {
   "cell_type": "markdown",
   "id": "c509cb5c",
   "metadata": {},
   "source": [
    "# Task 9: Write a Python program to convert temperatures to and from Celsius and Fahrenheit."
   ]
  },
  {
   "cell_type": "markdown",
   "id": "25fd2167",
   "metadata": {},
   "source": [
    "# Converting Celsius to Fahrenheit"
   ]
  },
  {
   "cell_type": "code",
   "execution_count": 1,
   "id": "5ddc9da5",
   "metadata": {},
   "outputs": [
    {
     "name": "stdout",
     "output_type": "stream",
     "text": [
      "Enter temperature in Celsius: 4\n"
     ]
    }
   ],
   "source": [
    "# Getting input from the user\n",
    "celsius = float(input(\"Enter temperature in Celsius: \"))"
   ]
  },
  {
   "cell_type": "markdown",
   "id": "ae555f8f",
   "metadata": {},
   "source": [
    "**Getting Input:**\n",
    "   - We start by asking the user to enter a temperature in Celsius. We use the `input()` function to take input from the user.\n",
    "   - The `float()` function converts the input (which is a string) into a floating-point number, allowing us to work with decimal values."
   ]
  },
  {
   "cell_type": "code",
   "execution_count": 2,
   "id": "12aac506",
   "metadata": {},
   "outputs": [],
   "source": [
    "# Converting Celsius to Fahrenheit\n",
    "fahrenheit = (celsius * 9/5) + 32"
   ]
  },
  {
   "cell_type": "markdown",
   "id": "c2ef0b06",
   "metadata": {},
   "source": [
    "**Converting Celsius to Fahrenheit:**\n",
    "   - We use the formula `F = (C * 9/5) + 32` to convert the Celsius temperature to Fahrenheit.\n",
    "   - Here, `celsius * 9/5` scales the temperature, and adding `32` adjusts it to the Fahrenheit scale."
   ]
  },
  {
   "cell_type": "code",
   "execution_count": 3,
   "id": "46a230e9",
   "metadata": {},
   "outputs": [
    {
     "name": "stdout",
     "output_type": "stream",
     "text": [
      "Temperature in Fahrenheit: 39.2\n"
     ]
    }
   ],
   "source": [
    "# Printing the result\n",
    "print(\"Temperature in Fahrenheit:\", fahrenheit)"
   ]
  },
  {
   "cell_type": "markdown",
   "id": "702b916c",
   "metadata": {},
   "source": [
    "**Printing the Result:**\n",
    "   - We use the `print()` function to display the converted temperature in Fahrenheit. This will show the result on the screen."
   ]
  },
  {
   "cell_type": "code",
   "execution_count": 4,
   "id": "d8d543aa",
   "metadata": {},
   "outputs": [
    {
     "name": "stdout",
     "output_type": "stream",
     "text": [
      "Enter temperature in Fahrenheit: 34\n"
     ]
    }
   ],
   "source": [
    "# Getting input from the user\n",
    "fahrenheit_input = float(input(\"Enter temperature in Fahrenheit: \"))"
   ]
  },
  {
   "cell_type": "markdown",
   "id": "ca915a8d",
   "metadata": {},
   "source": [
    "# Converting Fahrenheit to Celsius"
   ]
  },
  {
   "cell_type": "markdown",
   "id": "b8e4b482",
   "metadata": {},
   "source": [
    "**Getting Input:**\n",
    "   - Now, we ask the user to enter a temperature in Fahrenheit. Again, we use the `input()` function to take input from the user and convert it into a floating-point number using `float()`."
   ]
  },
  {
   "cell_type": "code",
   "execution_count": 5,
   "id": "4bca59b0",
   "metadata": {},
   "outputs": [],
   "source": [
    "# Converting Fahrenheit to Celsius\n",
    "celsius_converted = (fahrenheit_input - 32) * 5/9"
   ]
  },
  {
   "cell_type": "markdown",
   "id": "78be9a9c",
   "metadata": {},
   "source": [
    "**Converting Fahrenheit to Celsius:**\n",
    "   - We use the formula `C = (F - 32) * 5/9` to convert the Fahrenheit temperature back to Celsius.\n",
    "   - Here, `fahrenheit_input - 32` adjusts the temperature to remove the Fahrenheit offset, and multiplying by `5/9` scales it to the Celsius scale."
   ]
  },
  {
   "cell_type": "code",
   "execution_count": 6,
   "id": "49561a1e",
   "metadata": {},
   "outputs": [
    {
     "name": "stdout",
     "output_type": "stream",
     "text": [
      "Temperature in Celsius: 1.1111111111111112\n"
     ]
    }
   ],
   "source": [
    "# Printing the result\n",
    "print(\"Temperature in Celsius:\", celsius_converted)"
   ]
  },
  {
   "cell_type": "markdown",
   "id": "b8a2efdc",
   "metadata": {},
   "source": [
    "**Printing the Result:**\n",
    "   - Finally, we use the `print()` function to display the converted temperature in Celsius. This will show the result on the screen."
   ]
  },
  {
   "cell_type": "code",
   "execution_count": null,
   "id": "967c7dc5",
   "metadata": {},
   "outputs": [],
   "source": []
  }
 ],
 "metadata": {
  "kernelspec": {
   "display_name": "Python 3 (ipykernel)",
   "language": "python",
   "name": "python3"
  },
  "language_info": {
   "codemirror_mode": {
    "name": "ipython",
    "version": 3
   },
   "file_extension": ".py",
   "mimetype": "text/x-python",
   "name": "python",
   "nbconvert_exporter": "python",
   "pygments_lexer": "ipython3",
   "version": "3.11.3"
  }
 },
 "nbformat": 4,
 "nbformat_minor": 5
}
