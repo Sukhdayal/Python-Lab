{
 "cells": [
  {
   "cell_type": "code",
   "execution_count": 31,
   "id": "51ecf283",
   "metadata": {},
   "outputs": [],
   "source": [
    "import re  # Import the regex module"
   ]
  },
  {
   "cell_type": "code",
   "execution_count": 36,
   "id": "a7ddd671",
   "metadata": {},
   "outputs": [],
   "source": [
    "# The text we want to search in\n",
    "text = \"I like apples. Apples are delicious. I eat an apple every day.\""
   ]
  },
  {
   "cell_type": "code",
   "execution_count": 37,
   "id": "77ebee7f",
   "metadata": {},
   "outputs": [],
   "source": [
    "# Pattern we are looking for\n",
    "pattern = r\"apple\""
   ]
  },
  {
   "cell_type": "code",
   "execution_count": 38,
   "id": "28d95724",
   "metadata": {},
   "outputs": [],
   "source": [
    "# Finding all matches of the pattern in the text, ignoring case sensitivity\n",
    "matches = re.findall(pattern, text) # pattern becomes case insensitive"
   ]
  },
  {
   "cell_type": "code",
   "execution_count": 39,
   "id": "1c979f8d",
   "metadata": {},
   "outputs": [
    {
     "name": "stdout",
     "output_type": "stream",
     "text": [
      "2\n",
      "['apple', 'apple']\n"
     ]
    }
   ],
   "source": [
    "print(len(matches))\n",
    "print(matches)"
   ]
  },
  {
   "cell_type": "code",
   "execution_count": 2,
   "id": "f3be3e3f",
   "metadata": {},
   "outputs": [
    {
     "name": "stdout",
     "output_type": "stream",
     "text": [
      "Found 3 occurrences of the word 'apple': ['apple', 'Apple', 'apple']\n"
     ]
    }
   ],
   "source": [
    "# Printing the results\n",
    "print(f\"Found {len(matches)} occurrences of the word 'apple':\", matches)"
   ]
  },
  {
   "cell_type": "code",
   "execution_count": null,
   "id": "04e18bfb",
   "metadata": {},
   "outputs": [],
   "source": []
  },
  {
   "cell_type": "code",
   "execution_count": null,
   "id": "a2111caa",
   "metadata": {},
   "outputs": [],
   "source": []
  },
  {
   "cell_type": "markdown",
   "id": "b06a31fc",
   "metadata": {},
   "source": [
    "Regex in Python provides several powerful functions that you can use to perform various operations, such as searching, matching, replacing, and splitting strings based on patterns. Here are the main functions you can perform with regex in Python, using the `re` module:\n",
    "\n",
    "### 1. `re.search()`\n",
    "- **Purpose**: Searches a string for the first location where the regex pattern matches.\n",
    "- **Usage**: Returns a match object if a match is found; otherwise, returns `None`.\n",
    "- **Example**:"
   ]
  },
  {
   "cell_type": "code",
   "execution_count": 41,
   "id": "bfcfa663",
   "metadata": {},
   "outputs": [
    {
     "name": "stdout",
     "output_type": "stream",
     "text": [
      "<re.Match object; span=(22, 27), match='world'>\n",
      "world\n"
     ]
    }
   ],
   "source": [
    "import re\n",
    "text = \"Hello, welcome to the world of Python.\"\n",
    "result = re.search(r\"world\", text)\n",
    "print(result)  # Output: world\n",
    "print(result.group())"
   ]
  },
  {
   "cell_type": "markdown",
   "id": "1def6f46",
   "metadata": {},
   "source": [
    "In regex, the **`group()`** function is used to extract or get the exact part of the text that matched your pattern.\n",
    "\n",
    "### Why Use `group()`?\n",
    "\n",
    "When you use a regex function like `re.search()` or `re.match()`, it returns a **match object** if it finds something matching your pattern. However, this match object itself doesn't directly show you what part of the text matched. The `group()` function is used to access that specific matched text.\n",
    "\n",
    "### Think of it Like This:\n",
    "\n",
    "Imagine you are playing a game where you are searching for a hidden word in a paragraph. You use a tool (like regex) to find the hidden word. Once the tool finds it, it doesn't immediately tell you what the hidden word is; it just tells you that it found something. \n",
    "\n",
    "Now, to know what exactly it found, you use the **`group()`** function. It's like asking, \"What exactly did you find?\" And `group()` will show you the matched text.\n",
    "\n",
    "### Example:\n",
    "Let’s say you are searching for the word \"apple\" in a sentence:\n",
    "\n",
    "```python\n",
    "import re\n",
    "\n",
    "text = \"I have an apple and a banana.\"\n",
    "match = re.search(r\"apple\", text)\n",
    "\n",
    "# Using group() to get the matched text\n",
    "if match:\n",
    "    print(match.group())  # Output: apple\n",
    "```\n",
    "\n",
    "Here, `re.search()` finds \"apple\" in the text, and `match.group()` tells us the exact word that was found: **\"apple.\"**\n",
    "\n",
    "So, in simple terms, **`group()`** is like asking, \"Tell me exactly what you found!\""
   ]
  },
  {
   "cell_type": "markdown",
   "id": "9a0b6b4d",
   "metadata": {},
   "source": [
    "### 2. `re.match()`\n",
    "- **Purpose**: Checks for a match only at the beginning of the string.\n",
    "- **Usage**: Returns a match object if the pattern matches at the start; otherwise, returns `None`.\n",
    "- **Example**:"
   ]
  },
  {
   "cell_type": "code",
   "execution_count": 44,
   "id": "2325458b",
   "metadata": {},
   "outputs": [
    {
     "name": "stdout",
     "output_type": "stream",
     "text": [
      "<re.Match object; span=(0, 6), match='Python'>\n",
      "Python\n"
     ]
    }
   ],
   "source": [
    "import re\n",
    "\n",
    "text = \"Python is fun.\"\n",
    "pattern = r\"Python\"\n",
    "result = re.match(pattern, text)\n",
    "print(result)  # Output: Python\n",
    "print(result.group())# Output: Python"
   ]
  },
  {
   "cell_type": "markdown",
   "id": "3404a14c",
   "metadata": {},
   "source": [
    "### 3. `re.findall()`\n",
    "- **Purpose**: Finds all occurrences of the pattern in the string and returns them as a list.\n",
    "- **Usage**: Returns a list of all matches in the string.\n",
    "- **Example**:"
   ]
  },
  {
   "cell_type": "code",
   "execution_count": 47,
   "id": "0df3e39c",
   "metadata": {},
   "outputs": [
    {
     "name": "stdout",
     "output_type": "stream",
     "text": [
      "['Spain']\n"
     ]
    }
   ],
   "source": [
    "import re\n",
    "text = \"The rain in Spain stays mainly in the plain.\"\n",
    "result = re.findall(r\"Spain\", text)\n",
    "print(result)  # Output: ['in', 'in', 'in', 'in']"
   ]
  },
  {
   "cell_type": "markdown",
   "id": "f9c1065a",
   "metadata": {},
   "source": [
    "### 4. `re.finditer()`\n",
    "- **Purpose**: Similar to `re.findall()`, but returns an iterator yielding match objects instead of a list of strings.\n",
    "- **Usage**: Useful for iterating over all matches in a more memory-efficient way.\n",
    "- **Example**:"
   ]
  },
  {
   "cell_type": "code",
   "execution_count": 48,
   "id": "73063245",
   "metadata": {},
   "outputs": [
    {
     "name": "stdout",
     "output_type": "stream",
     "text": [
      "8\n",
      "11\n",
      "17\n",
      "28\n",
      "33\n",
      "43\n"
     ]
    }
   ],
   "source": [
    "import re\n",
    "\n",
    "text = \"The rain in Spain stays mainly in the plain.\"\n",
    "matches = re.finditer(r\"in\", text)\n",
    "for match in matches:\n",
    "    #print(match.start())  # Outputs the starting index of each match\n",
    "    print(match.end())  # Outputs the starting index of each match    "
   ]
  },
  {
   "cell_type": "markdown",
   "id": "660da6d5",
   "metadata": {},
   "source": [
    "### 5. `re.split()`\n",
    "- **Purpose**: Splits the string at each match of the regex pattern.\n",
    "- **Usage**: Returns a list of strings split by the occurrences of the pattern.\n",
    "- **Example**:"
   ]
  },
  {
   "cell_type": "code",
   "execution_count": 13,
   "id": "c3963e28",
   "metadata": {},
   "outputs": [
    {
     "name": "stdout",
     "output_type": "stream",
     "text": [
      "['apple', 'banana', 'cherry']\n"
     ]
    }
   ],
   "source": [
    "import re\n",
    "\n",
    "text = \"apple, banana, cherry\"\n",
    "result = re.split(r\",\\s*\", text)\n",
    "print(result)  # Output: ['apple', 'banana', 'cherry']"
   ]
  },
  {
   "cell_type": "markdown",
   "id": "45219e20",
   "metadata": {},
   "source": [
    "### 6. `re.sub()`\n",
    "- **Purpose**: Replaces all occurrences of a pattern with a specified string.\n",
    "- **Usage**: Returns a new string with the replaced values.\n",
    "- **Example**:"
   ]
  },
  {
   "cell_type": "code",
   "execution_count": 51,
   "id": "cd8cb3ab",
   "metadata": {},
   "outputs": [
    {
     "name": "stdout",
     "output_type": "stream",
     "text": [
      "I love fruits\n"
     ]
    }
   ],
   "source": [
    "import re\n",
    "\n",
    "text = \"I love cats\"\n",
    "result = re.sub(r\"cats\", \"fruits\", text)\n",
    "print(result)  # Output: I love dogs"
   ]
  },
  {
   "cell_type": "markdown",
   "id": "2dd2978d",
   "metadata": {},
   "source": [
    "### 7. `re.subn()`\n",
    "- **Purpose**: Similar to `re.sub()`, but also returns the number of replacements made.\n",
    "- **Usage**: Returns a tuple of the new string and the count of replacements.\n",
    "- **Example**:"
   ]
  },
  {
   "cell_type": "code",
   "execution_count": 15,
   "id": "2b0958b0",
   "metadata": {},
   "outputs": [
    {
     "name": "stdout",
     "output_type": "stream",
     "text": [
      "('I love dogs and dogs are cute', 2)\n"
     ]
    }
   ],
   "source": [
    "import re\n",
    "\n",
    "text = \"I love cats and cats are cute\"\n",
    "result = re.subn(r\"cats\", \"dogs\", text)\n",
    "print(result)  # Output: ('I love dogs and dogs are cute', 2)"
   ]
  },
  {
   "cell_type": "markdown",
   "id": "f90d36a2",
   "metadata": {},
   "source": [
    "### 8. `re.fullmatch()`\n",
    "- **Purpose**: Checks if the entire string matches the regex pattern.\n",
    "- **Usage**: Returns a match object if the whole string matches the pattern; otherwise, returns `None`.\n",
    "- **Example**:"
   ]
  },
  {
   "cell_type": "code",
   "execution_count": 27,
   "id": "02a8a5f2",
   "metadata": {},
   "outputs": [
    {
     "name": "stdout",
     "output_type": "stream",
     "text": [
      "Hello123\n"
     ]
    }
   ],
   "source": [
    "import re\n",
    "\n",
    "text = \"Hello123\"\n",
    "\n",
    "# checks if the entire text consists only of word characters (letters, digits, or underscores) from start to finish.\n",
    "result = re.fullmatch(r\"\\w+\", text)\n",
    "\n",
    "print(result.group())  # Output: Hello123"
   ]
  },
  {
   "cell_type": "code",
   "execution_count": null,
   "id": "72e6567a",
   "metadata": {},
   "outputs": [],
   "source": []
  },
  {
   "cell_type": "code",
   "execution_count": null,
   "id": "1fb72fc3",
   "metadata": {},
   "outputs": [],
   "source": []
  },
  {
   "cell_type": "code",
   "execution_count": null,
   "id": "a09ba7bc",
   "metadata": {},
   "outputs": [],
   "source": []
  },
  {
   "cell_type": "code",
   "execution_count": null,
   "id": "78556e26",
   "metadata": {},
   "outputs": [],
   "source": []
  },
  {
   "cell_type": "code",
   "execution_count": null,
   "id": "ed5028b3",
   "metadata": {},
   "outputs": [],
   "source": []
  },
  {
   "cell_type": "code",
   "execution_count": null,
   "id": "3cf62f98",
   "metadata": {},
   "outputs": [],
   "source": []
  }
 ],
 "metadata": {
  "kernelspec": {
   "display_name": "Python 3 (ipykernel)",
   "language": "python",
   "name": "python3"
  },
  "language_info": {
   "codemirror_mode": {
    "name": "ipython",
    "version": 3
   },
   "file_extension": ".py",
   "mimetype": "text/x-python",
   "name": "python",
   "nbconvert_exporter": "python",
   "pygments_lexer": "ipython3",
   "version": "3.11.3"
  }
 },
 "nbformat": 4,
 "nbformat_minor": 5
}
