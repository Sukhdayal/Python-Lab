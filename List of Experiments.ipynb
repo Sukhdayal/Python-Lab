{
 "cells": [
  {
   "cell_type": "markdown",
   "id": "cf18b40b",
   "metadata": {},
   "source": [
    "# List of Experiments:\n",
    "\n",
    "#### Task 1: Write a program to demonstrate different number data types in Python.\n",
    "Task 2: Write a program to perform different Arithmetic Operations on numbers in Python.\n",
    "Task 3: Write a program to create, concatenate and print a string and accessing sub-string from a given string.\n",
    "Task 4: Write a python script to print the current date in the following format “Sun May 29 02:26:23 IST 2017”\n",
    "Task 5: Write a program to create, append, and remove lists in python.\n",
    "Task 6: Write a program to demonstrate working with tuples in python.\n",
    "Task 7: Write a program to demonstrate working with dictionaries in python.\n",
    "Task 8: Write a python program to find largest of three numbers.\n",
    "Task 9: Write a Python program to convert temperatures to and from Celsius, Fahrenheit. [ Formula: c/5 = f-32/9]\n",
    "Task 10: Write a Python program to construct the following pattern, using a nested for loop *\n",
    "Task 11: Write a Python script that prints prime numbers less than 20.\n",
    "Task 12: Write a python program to find factorial of a number using Recursion.\n",
    "Task 13: Write a program that accepts the lengths of three sides of a triangle as inputs. The program output should indicate whether or not the triangle is a right triangle (Recall from the Pythagorean Theorem that in a right triangle, the square of one side equals the sum of the squares of the other two sides).\n",
    "Task 14: Write a python program to define a module to find Fibonacci Numbers and import the module to another program.\n",
    "Task 15: Write a python program to define a module and import a specific function in that module to another program.\n",
    "Task 16: Write a script named copyfile.py. This script should prompt the user for the names of two text files. The contents of the first file should be input and written to the second file.\n",
    "Task 17: Write a program that inputs a text file. The program should print all of the unique words in the file in alphabetical order.\n",
    "Task 18: Write a Python class to convert an integer to a roman numeral.\n",
    "Task 19: Write a Python class to implement pow(x, n)\n",
    "Task 20: Write a Python class to reverse a string word by word."
   ]
  },
  {
   "cell_type": "code",
   "execution_count": null,
   "id": "db0df37e",
   "metadata": {},
   "outputs": [],
   "source": []
  }
 ],
 "metadata": {
  "kernelspec": {
   "display_name": "Python 3 (ipykernel)",
   "language": "python",
   "name": "python3"
  },
  "language_info": {
   "codemirror_mode": {
    "name": "ipython",
    "version": 3
   },
   "file_extension": ".py",
   "mimetype": "text/x-python",
   "name": "python",
   "nbconvert_exporter": "python",
   "pygments_lexer": "ipython3",
   "version": "3.11.3"
  }
 },
 "nbformat": 4,
 "nbformat_minor": 5
}
