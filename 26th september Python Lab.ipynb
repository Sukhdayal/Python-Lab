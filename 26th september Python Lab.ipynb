{
 "cells": [
  {
   "cell_type": "markdown",
   "id": "fcb4a93a",
   "metadata": {},
   "source": [
    "# 1. Python Class to Implement `pow(x, n)`"
   ]
  },
  {
   "cell_type": "code",
   "execution_count": 11,
   "id": "4d549042",
   "metadata": {},
   "outputs": [
    {
     "name": "stdout",
     "output_type": "stream",
     "text": [
      "8\n"
     ]
    }
   ],
   "source": [
    "class PowerCalculator:\n",
    "    # Method to calculate x raised to the power of n\n",
    "    def pow(self, x, n):\n",
    "        # Use Python's built-in exponentiation operator '**' to calculate power\n",
    "        return x ** n\n",
    "\n",
    "# Example usage:\n",
    "calculator = PowerCalculator()  # Create an instance of the PowerCalculator class\n",
    "print(calculator.pow(2, 3))  # Call the pow method with x=2 and n=3, Output: 8"
   ]
  },
  {
   "cell_type": "markdown",
   "id": "ddc5ed8a",
   "metadata": {},
   "source": [
    "# Line-by-Line Explanation:\n",
    "1. **`class PowerCalculator:`**\n",
    "   - This defines a new class named `PowerCalculator`. A class in Python is a blueprint for creating objects, which can contain methods (functions) and attributes (variables).\n",
    "\n",
    "2. **`def pow(self, x, n):`**\n",
    "   - This defines a method called `pow` within the `PowerCalculator` class. The method takes two arguments: `x`, which is the base, and `n`, which is the exponent. `self` refers to the instance of the class that calls this method.\n",
    "\n",
    "3. **`return x ** n`**\n",
    "   - This line calculates `x` raised to the power of `n` using Python's built-in exponentiation operator `**`. The result of this calculation is then returned by the method.\n",
    "\n",
    "### Example Usage:\n",
    "- **`calculator = PowerCalculator()`**\n",
    "  - This line creates an instance of the `PowerCalculator` class, stored in the variable `calculator`. An instance is an individual object created from a class.\n",
    "\n",
    "- **`print(calculator.pow(2, 3))`**\n",
    "  - This line calls the `pow` method of the `calculator` object with `x=2` and `n=3`. The method computes `2` raised to the power of `3`, which equals `8`. The `print` function then outputs this result.\n",
    "\n",
    "### Summary:\n",
    "- The class `PowerCalculator` contains a single method `pow` that uses Python’s built-in `**` operator to calculate and return the power of a number.\n",
    "- The example demonstrates creating an object from the `PowerCalculator` class and using it to calculate the power of `2` raised to `3`, resulting in `8`.\n",
    "\n",
    "This simple class is designed to encapsulate the power calculation into a reusable component. The method itself leverages Python's straightforward syntax for exponentiation, making the code easy to read and understand."
   ]
  },
  {
   "cell_type": "markdown",
   "id": "48fb8d7f",
   "metadata": {},
   "source": [
    "# 2. Python Class to Reverse a String Word by Word"
   ]
  },
  {
   "cell_type": "code",
   "execution_count": 14,
   "id": "a105f9a3",
   "metadata": {},
   "outputs": [
    {
     "name": "stdout",
     "output_type": "stream",
     "text": [
      "World Hello\n"
     ]
    }
   ],
   "source": [
    "class StringReverser:\n",
    "    # Method to reverse the words in a given sentence\n",
    "    def reverse_words(self, sentence):\n",
    "        # Split the sentence into a list of words using the default whitespace separator\n",
    "        words = sentence.split()  \n",
    "        \n",
    "        # Reverse the list of words and then join them back into a single string with spaces in between\n",
    "        return ' '.join(words[::-1])  \n",
    "\n",
    "# Example usage:\n",
    "reverser = StringReverser()  # Create an instance of the StringReverser class\n",
    "print(reverser.reverse_words(\"Hello World\")) \n",
    "# Call the reverse_words method with the sentence \"Hello World\", Output: \"World Hello\""
   ]
  },
  {
   "cell_type": "markdown",
   "id": "676576da",
   "metadata": {},
   "source": [
    "# Line-by-Line Explanation:\n",
    "1. **`class StringReverser:`**\n",
    "   - This defines a new class named `StringReverser`. A class in Python is a blueprint for creating objects, which can contain methods (functions) and attributes (variables).\n",
    "\n",
    "2. **`def reverse_words(self, sentence):`**\n",
    "   - This defines a method called `reverse_words` within the `StringReverser` class. The method takes one argument, `sentence`, which is the string of words you want to reverse. `self` refers to the instance of the class that calls this method.\n",
    "\n",
    "3. **`words = sentence.split()`**\n",
    "   - This line splits the `sentence` into a list of words using the `split()` method. By default, `split()` breaks the string at any whitespace and returns a list of words. For example, `\"Hello World\"` becomes `[\"Hello\", \"World\"]`.\n",
    "\n",
    "4. **`return ' '.join(words[::-1])`**\n",
    "   - This line reverses the list of words using slicing (`[::-1]`) and then joins the reversed list back into a single string using `' '.join()`. The `' '.join()` method combines the list elements into a string, with each word separated by a space. For example, if `words` is `[\"Hello\", \"World\"]`, reversing it gives `[\"World\", \"Hello\"]`, and joining it back results in `\"World Hello\"`.\n",
    "\n",
    "### Example Usage:\n",
    "- **`reverser = StringReverser()`**\n",
    "  - This line creates an instance of the `StringReverser` class, stored in the variable `reverser`. An instance is an individual object created from a class.\n",
    "\n",
    "- **`print(reverser.reverse_words(\"Hello World\"))`**\n",
    "  - This line calls the `reverse_words` method of the `reverser` object with the sentence `\"Hello World\"`. The method splits the sentence into words, reverses their order, and then joins them back into a string. The `print` function outputs the reversed sentence, which is `\"World Hello\"`.\n",
    "\n",
    "### Summary:\n",
    "- The class `StringReverser` contains a method `reverse_words` that reverses the order of words in a given sentence.\n",
    "- The method works by first splitting the sentence into a list of words, reversing that list, and then joining the words back into a string with spaces between them.\n",
    "- The example demonstrates how to create an object from the `StringReverser` class and use it to reverse the words in the sentence `\"Hello World\"`, resulting in `\"World Hello\"`.\n",
    "\n",
    "This simple class provides a clear way to reverse the word order in any given string, making it useful for various text-processing tasks."
   ]
  },
  {
   "cell_type": "markdown",
   "id": "d657de30",
   "metadata": {},
   "source": [
    "# 3. Python Class to Convert an Integer to a Roman Numeral"
   ]
  },
  {
   "cell_type": "code",
   "execution_count": 10,
   "id": "b390ad98",
   "metadata": {},
   "outputs": [
    {
     "name": "stdout",
     "output_type": "stream",
     "text": [
      "MMMDXLIX\n"
     ]
    }
   ],
   "source": [
    "class IntegerToRoman:\n",
    "    # Method to convert an integer to a Roman numeral\n",
    "    def int_to_roman(self, num):\n",
    "        # List of integer values corresponding to Roman numerals\n",
    "        val = [1000, 900, 500, 400, 100, 90, 50, 40, 10, 9, 5, 4, 1]\n",
    "        \n",
    "        # List of Roman numeral symbols corresponding to the values in the 'val' list\n",
    "        syms = [\"M\", \"CM\", \"D\", \"CD\", \"C\", \"XC\", \"L\", \"XL\", \"X\", \"IX\", \"V\", \"IV\", \"I\"]\n",
    "        \n",
    "        # Initialize an empty string to store the final Roman numeral\n",
    "        roman_num = ''\n",
    "        \n",
    "        # Loop through each value-symbol pair in 'val' and 'syms' lists\n",
    "        for i in range(len(val)):\n",
    "            # While the current number is greater than or equal to the current value\n",
    "            while num >= val[i]:\n",
    "                # Add the corresponding Roman numeral symbol to the result\n",
    "                roman_num += syms[i]\n",
    "                \n",
    "                # Subtract the current value from the number\n",
    "                num -= val[i]\n",
    "                \n",
    "        # Return the final Roman numeral string\n",
    "        return roman_num\n",
    "\n",
    "# Example usage:\n",
    "converter = IntegerToRoman()  # Create an instance of the IntegerToRoman class\n",
    "print(converter.int_to_roman(3549))  # Output: MMMDXLIX"
   ]
  },
  {
   "cell_type": "markdown",
   "id": "4cdbddf4",
   "metadata": {},
   "source": [
    "# Line-by-Line Explanation:\n",
    "1. **`class IntegerToRoman:`**\n",
    "   - This defines a new class named `IntegerToRoman`. A class in Python is a blueprint for creating objects, which can have attributes (variables) and methods (functions).\n",
    "\n",
    "2. **`def int_to_roman(self, num):`**\n",
    "   - This defines a method called `int_to_roman` within the `IntegerToRoman` class. The method takes one argument, `num`, which is the integer you want to convert to a Roman numeral. `self` refers to the instance of the class.\n",
    "\n",
    "3. **`val = [1000, 900, 500, 400, 100, 90, 50, 40, 10, 9, 5, 4, 1]`**\n",
    "   - This line creates a list named `val` that contains the integer values corresponding to Roman numeral symbols in descending order.\n",
    "\n",
    "4. **`syms = [\"M\", \"CM\", \"D\", \"CD\", \"C\", \"XC\", \"L\", \"XL\", \"X\", \"IX\", \"V\", \"IV\", \"I\"]`**\n",
    "   - This line creates a list named `syms` that contains the Roman numeral symbols corresponding to the values in the `val` list. Each position in `syms` matches the position in `val`.\n",
    "\n",
    "5. **`roman_num = ''`**\n",
    "   - This initializes an empty string `roman_num`, which will be used to build the final Roman numeral.\n",
    "\n",
    "6. **`for i in range(len(val)):`**\n",
    "   - This is a loop that iterates over the indices of the `val` list. The loop runs from `i = 0` to `i = len(val) - 1`. This allows access to both `val[i]` and `syms[i]` in each iteration.\n",
    "\n",
    "7. **`while num >= val[i]:`**\n",
    "   - This is a nested loop that checks if the `num` is greater than or equal to the current value in `val[i]`. If it is, the loop runs, continuing to subtract `val[i]` from `num` until `num` is smaller than `val[i]`.\n",
    "\n",
    "8. **`roman_num += syms[i]`**\n",
    "   - Inside the `while` loop, this line appends the corresponding Roman numeral symbol from `syms[i]` to the `roman_num` string.\n",
    "\n",
    "9. **`num -= val[i]`**\n",
    "   - Still inside the `while` loop, this line subtracts the current value `val[i]` from `num`. This reduces `num` progressively until it’s less than `val[i]`.\n",
    "\n",
    "10. **`return roman_num`**\n",
    "    - After the loops have finished, this line returns the `roman_num` string, which now contains the Roman numeral equivalent of the original `num`.\n",
    "\n",
    "### Example Usage:\n",
    "- **`converter = IntegerToRoman()`**\n",
    "  - Creates an instance of the `IntegerToRoman` class.\n",
    "\n",
    "- **`print(converter.int_to_roman(3549))`**\n",
    "  - Calls the `int_to_roman` method on the `converter` object with the integer `3549`. It prints the result, which in this case would be `\"MMMDXLIX\"`.\n",
    "\n",
    "This method efficiently converts an integer to a Roman numeral by iteratively subtracting the largest possible Roman numeral values and appending the corresponding symbols to the result string."
   ]
  },
  {
   "cell_type": "code",
   "execution_count": null,
   "id": "7e585a34",
   "metadata": {},
   "outputs": [],
   "source": []
  },
  {
   "cell_type": "code",
   "execution_count": null,
   "id": "876eb60f",
   "metadata": {},
   "outputs": [],
   "source": []
  }
 ],
 "metadata": {
  "kernelspec": {
   "display_name": "Python 3 (ipykernel)",
   "language": "python",
   "name": "python3"
  },
  "language_info": {
   "codemirror_mode": {
    "name": "ipython",
    "version": 3
   },
   "file_extension": ".py",
   "mimetype": "text/x-python",
   "name": "python",
   "nbconvert_exporter": "python",
   "pygments_lexer": "ipython3",
   "version": "3.11.3"
  }
 },
 "nbformat": 4,
 "nbformat_minor": 5
}
