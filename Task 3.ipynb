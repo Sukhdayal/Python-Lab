{
 "cells": [
  {
   "cell_type": "markdown",
   "id": "f1bbb424",
   "metadata": {},
   "source": [
    "# Task 3: Write a program to create, concatenate and print a string and accessing sub-string from a given string."
   ]
  },
  {
   "cell_type": "code",
   "execution_count": null,
   "id": "b28a311a",
   "metadata": {},
   "outputs": [],
   "source": [
    "# Creating a string\n",
    "greeting = \"Hello\""
   ]
  },
  {
   "cell_type": "markdown",
   "id": "7f427fa6",
   "metadata": {},
   "source": [
    "**Creating a String:**\n",
    "   - We start by creating a string and storing it in a variable named `greeting`. A string is just a sequence of characters. Here, the string is `\"Hello\"`.\n"
   ]
  },
  {
   "cell_type": "code",
   "execution_count": null,
   "id": "072337b8",
   "metadata": {},
   "outputs": [],
   "source": [
    "# Concatenating (joining) another string to the first one\n",
    "full_greeting = greeting + \" World\""
   ]
  },
  {
   "cell_type": "markdown",
   "id": "150bea6d",
   "metadata": {},
   "source": [
    "**Concatenating (Joining) Strings:**\n",
    "   - Next, we join (concatenate) the string stored in `greeting` with another string `\" World\"`. The `+` operator is used to concatenate strings. \n",
    "   - We store the result in a new variable called `full_greeting`. The result will be `\"Hello World\"`."
   ]
  },
  {
   "cell_type": "code",
   "execution_count": null,
   "id": "84d5cdbb",
   "metadata": {},
   "outputs": [],
   "source": [
    "# Printing the full string\n",
    "print(\"Full Greeting:\", full_greeting)"
   ]
  },
  {
   "cell_type": "markdown",
   "id": "5e4dfbf3",
   "metadata": {},
   "source": [
    "**Printing the Full String:**\n",
    "   - We use the `print()` function to display the `full_greeting` string on the screen. This will show `\"Full Greeting: Hello World\"`."
   ]
  },
  {
   "cell_type": "code",
   "execution_count": null,
   "id": "160e3660",
   "metadata": {},
   "outputs": [],
   "source": [
    "# Accessing a sub-string (part of the string) from the full string\n",
    "sub_string = full_greeting[0:5]  # This takes the first 5 characters from the string"
   ]
  },
  {
   "cell_type": "code",
   "execution_count": null,
   "id": "b3e5f04e",
   "metadata": {},
   "outputs": [],
   "source": [
    "4. **Accessing a Sub-string:**\n",
    "   - A sub-string is just a part of a larger string. Here, we want to access the first 5 characters of the `full_greeting` string, which are `\"Hello\"`.\n",
    "   - We do this by using `full_greeting[0:5]`. This tells Python to take the characters starting from position 0 (the first character) up to position 5 (but not including 5).\n"
   ]
  },
  {
   "cell_type": "code",
   "execution_count": null,
   "id": "9371f47f",
   "metadata": {},
   "outputs": [],
   "source": [
    "# Printing the sub-string\n",
    "print(\"Sub-string:\", sub_string)"
   ]
  },
  {
   "cell_type": "code",
   "execution_count": null,
   "id": "2cd2358b",
   "metadata": {},
   "outputs": [],
   "source": [
    "5. **Printing the Sub-string:**\n",
    "   - Finally, we use the `print()` function again to display the sub-string, which will be `\"Sub-string: Hello\"`.\n",
    "\n",
    "This code will help students understand how to create strings, join them, and access parts of them easily!"
   ]
  },
  {
   "cell_type": "code",
   "execution_count": null,
   "id": "d97f8265",
   "metadata": {},
   "outputs": [],
   "source": []
  },
  {
   "cell_type": "code",
   "execution_count": null,
   "id": "625ebf78",
   "metadata": {},
   "outputs": [],
   "source": []
  },
  {
   "cell_type": "code",
   "execution_count": null,
   "id": "847c9b9f",
   "metadata": {},
   "outputs": [],
   "source": []
  },
  {
   "cell_type": "code",
   "execution_count": null,
   "id": "9ae27f9c",
   "metadata": {},
   "outputs": [],
   "source": []
  },
  {
   "cell_type": "code",
   "execution_count": null,
   "id": "3cf21fdf",
   "metadata": {},
   "outputs": [],
   "source": []
  },
  {
   "cell_type": "code",
   "execution_count": null,
   "id": "31034cfc",
   "metadata": {},
   "outputs": [],
   "source": []
  },
  {
   "cell_type": "code",
   "execution_count": null,
   "id": "ce701500",
   "metadata": {},
   "outputs": [],
   "source": []
  },
  {
   "cell_type": "code",
   "execution_count": null,
   "id": "1f1dace1",
   "metadata": {},
   "outputs": [],
   "source": []
  },
  {
   "cell_type": "code",
   "execution_count": null,
   "id": "f00d4a58",
   "metadata": {},
   "outputs": [],
   "source": []
  }
 ],
 "metadata": {
  "kernelspec": {
   "display_name": "Python 3 (ipykernel)",
   "language": "python",
   "name": "python3"
  },
  "language_info": {
   "codemirror_mode": {
    "name": "ipython",
    "version": 3
   },
   "file_extension": ".py",
   "mimetype": "text/x-python",
   "name": "python",
   "nbconvert_exporter": "python",
   "pygments_lexer": "ipython3",
   "version": "3.11.3"
  }
 },
 "nbformat": 4,
 "nbformat_minor": 5
}
