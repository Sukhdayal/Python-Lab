{
 "cells": [
  {
   "cell_type": "markdown",
   "id": "c245bf69",
   "metadata": {},
   "source": [
    "# PROGRAM 4\n",
    "### Write a python script to print the current date in the following format “Sun May 29 02:26:23 IST 2017”"
   ]
  },
  {
   "cell_type": "code",
   "execution_count": null,
   "id": "237ef9b7",
   "metadata": {},
   "outputs": [],
   "source": [
    "from datetime import datetime\n",
    "\n",
    "# Get the current date and time\n",
    "now = datetime.now()\n",
    "\n",
    "# Format the date and time\n",
    "formatted_date = now.strftime(\"%a %b %d %H:%M:%S IST %Y\")\n",
    "\n",
    "print(formatted_date)"
   ]
  },
  {
   "cell_type": "markdown",
   "id": "2d3b15d8",
   "metadata": {},
   "source": [
    "# PROGRAM 12\n",
    "### Write a python program to find factorial of a number using Recursion."
   ]
  },
  {
   "cell_type": "code",
   "execution_count": 1,
   "id": "32c08be1",
   "metadata": {},
   "outputs": [
    {
     "name": "stdout",
     "output_type": "stream",
     "text": [
      "Enter a number to find its factorial: 5\n",
      "The factorial of 5 is 120.\n"
     ]
    }
   ],
   "source": [
    "def factorial(n):\n",
    "    # Base case: factorial of 0 or 1 is 1\n",
    "    if n == 0 or n == 1:\n",
    "        return 1\n",
    "    # Recursive case: n * factorial of (n-1)\n",
    "    else:\n",
    "        return n * factorial(n - 1)\n",
    "\n",
    "# Accept input from the user\n",
    "number = int(input(\"Enter a number to find its factorial: \"))\n",
    "\n",
    "if number < 0:\n",
    "    print(\"Factorial is not defined for negative numbers.\")\n",
    "else:\n",
    "    result = factorial(number)\n",
    "    print(f\"The factorial of {number} is {result}.\")\n"
   ]
  },
  {
   "cell_type": "markdown",
   "id": "675e4796",
   "metadata": {},
   "source": [
    "# PROGRAM 13\n",
    "### Write a program that accepts the lengths of three sides of a triangle as inputs. The program output should indicate whether or not the triangle is a right triangle (Recall from the Pythagorean Theorem that in a right triangle, the square of one side equals the sum of the squares of the other two sides)."
   ]
  },
  {
   "cell_type": "code",
   "execution_count": null,
   "id": "e7340581",
   "metadata": {},
   "outputs": [],
   "source": [
    "# Accept the lengths of the three sides of the triangle\n",
    "side1 = float(input(\"Enter the length of the first side: \"))\n",
    "side2 = float(input(\"Enter the length of the second side: \"))\n",
    "side3 = float(input(\"Enter the length of the third side: \"))\n",
    "\n",
    "# Sort the sides to identify the longest side\n",
    "sides = sorted([side1, side2, side3])\n",
    "\n",
    "# Check if the triangle is a right triangle using the Pythagorean Theorem\n",
    "if sides[2]**2 == sides[0]**2 + sides[1]**2:\n",
    "    print(\"The triangle is a right triangle.\")\n",
    "else:\n",
    "    print(\"The triangle is not a right triangle.\")"
   ]
  },
  {
   "cell_type": "code",
   "execution_count": null,
   "id": "1065ee5c",
   "metadata": {},
   "outputs": [],
   "source": []
  },
  {
   "cell_type": "code",
   "execution_count": null,
   "id": "35076476",
   "metadata": {},
   "outputs": [],
   "source": []
  },
  {
   "cell_type": "code",
   "execution_count": null,
   "id": "91913f44",
   "metadata": {},
   "outputs": [],
   "source": []
  },
  {
   "cell_type": "code",
   "execution_count": null,
   "id": "edab36b1",
   "metadata": {},
   "outputs": [],
   "source": []
  },
  {
   "cell_type": "code",
   "execution_count": null,
   "id": "c03218a7",
   "metadata": {},
   "outputs": [],
   "source": []
  }
 ],
 "metadata": {
  "kernelspec": {
   "display_name": "Python 3 (ipykernel)",
   "language": "python",
   "name": "python3"
  },
  "language_info": {
   "codemirror_mode": {
    "name": "ipython",
    "version": 3
   },
   "file_extension": ".py",
   "mimetype": "text/x-python",
   "name": "python",
   "nbconvert_exporter": "python",
   "pygments_lexer": "ipython3",
   "version": "3.11.3"
  }
 },
 "nbformat": 4,
 "nbformat_minor": 5
}
